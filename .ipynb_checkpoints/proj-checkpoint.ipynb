{
 "cells": [
  {
   "cell_type": "code",
   "execution_count": 1,
   "id": "d34d986f-2eb3-4edd-baef-9e0131528319",
   "metadata": {
    "tags": []
   },
   "outputs": [
    {
     "name": "stderr",
     "output_type": "stream",
     "text": [
      "2023-05-05 21:58:33.030811: I tensorflow/tsl/cuda/cudart_stub.cc:28] Could not find cuda drivers on your machine, GPU will not be used.\n",
      "2023-05-05 21:58:33.120482: I tensorflow/tsl/cuda/cudart_stub.cc:28] Could not find cuda drivers on your machine, GPU will not be used.\n",
      "2023-05-05 21:58:33.121775: I tensorflow/core/platform/cpu_feature_guard.cc:182] This TensorFlow binary is optimized to use available CPU instructions in performance-critical operations.\n",
      "To enable the following instructions: AVX2 FMA, in other operations, rebuild TensorFlow with the appropriate compiler flags.\n",
      "2023-05-05 21:58:35.271434: W tensorflow/compiler/tf2tensorrt/utils/py_utils.cc:38] TF-TRT Warning: Could not find TensorRT\n"
     ]
    }
   ],
   "source": [
    "import numpy as np\n",
    "from tqdm import tqdm\n",
    "import test_functions as test\n",
    "from tensorflow.keras.layers import Dense\n",
    "from tensorflow.keras.models import Sequential\n",
    "from tensorflow.keras.models import load_model"
   ]
  },
  {
   "cell_type": "code",
   "execution_count": 2,
   "id": "b61ea5e1",
   "metadata": {},
   "outputs": [],
   "source": [
    "                        ################### PSO ######################"
   ]
  },
  {
   "cell_type": "code",
   "execution_count": 3,
   "id": "92515f3c",
   "metadata": {},
   "outputs": [],
   "source": [
    "# model = load_model('rosenbrock_model.hdf5')"
   ]
  },
  {
   "cell_type": "code",
   "execution_count": 4,
   "id": "c9f0fe17-5c15-47d0-bf89-117c8dd8a35a",
   "metadata": {
    "tags": []
   },
   "outputs": [],
   "source": [
    "class Particle:\n",
    "    global_best_value = None\n",
    "    global_best_position = None\n",
    "    \n",
    "    def __init__(self, obj_func, bounds, c_i, c_s, c_c):\n",
    "        self.obj_function = obj_func\n",
    "        self.c_i = c_i\n",
    "        self.c_c = c_c\n",
    "        self.c_s = c_s\n",
    "        \n",
    "        self.lower_bounds = np.array([bound[0] for bound in bounds])\n",
    "        self.upper_bounds = np.array([bound[1] for bound in bounds])\n",
    "        \n",
    "        self.position = np.random.uniform(self.lower_bounds, self.upper_bounds, len(bounds))\n",
    "        #position = position.reshape(1,-1)\n",
    "\n",
    "        #self.position = model.predict(position)\n",
    "        self.value = self.obj_function(self.position)\n",
    "        \n",
    "        self.personal_best_position = self.position.copy()\n",
    "        self.personal_best_value = self.value\n",
    "        \n",
    "        self.velocity = np.random.uniform(self.lower_bounds - self.upper_bounds,\n",
    "                                          self.upper_bounds - self.lower_bounds,\n",
    "                                          len(bounds))\n",
    "        \n",
    "        if Particle.global_best_value is None or self.value < Particle.global_best_value:\n",
    "            Particle.global_best_position = self.position.copy()\n",
    "            Particle.global_best_value = self.value\n",
    "        \n",
    "    \n",
    "    def update_velocity(self):\n",
    "        r_c = np.random.random(self.velocity.shape)\n",
    "        r_s = np.random.random(self.velocity.shape)\n",
    "        \n",
    "        cognitive_velocity = r_c * self.c_c * (self.personal_best_position - self.position)\n",
    "        social_velocity    = r_s * self.c_s * (Particle.global_best_position - self.position)\n",
    "        inertia            = self.c_i * self.velocity\n",
    "        \n",
    "        self.velocity = cognitive_velocity + social_velocity + inertia\n",
    "    \n",
    "    def update_position(self):\n",
    "        self.position = np.clip(self.position + self.velocity, self.lower_bounds, self.upper_bounds)\n",
    "        self.value = self.obj_function(self.position)\n",
    "        \n",
    "        if self.value < self.personal_best_value:\n",
    "            self.personal_best_value = self.value\n",
    "            self.personal_best_position = self.position.copy()\n",
    "            \n",
    "            if self.value < Particle.global_best_value:\n",
    "                Particle.global_best_value = self.value\n",
    "                Particle.global_best_position = self.position.copy()"
   ]
  },
  {
   "cell_type": "code",
   "execution_count": 5,
   "id": "4769f218-bd41-4f01-820f-9e6f024df8d4",
   "metadata": {
    "tags": []
   },
   "outputs": [],
   "source": [
    "def PSO(swarm_size, num_iters, c_i, c_c, c_s, obj_func, num_dimensions, lb, ub):\n",
    "    bounds = [(lb, ub) for _ in range(num_dimensions)]\n",
    "    swarm = [Particle(obj_func, bounds, c_i, c_s, c_c) for _ in range(swarm_size)]\n",
    "    \n",
    "    for iter in tqdm(range(num_iters)):\n",
    "        for particle in swarm:\n",
    "            particle.update_velocity()\n",
    "            particle.update_position()\n",
    "        \n",
    "    print(f'Global best value: {Particle.global_best_value}')\n",
    "    print(f'Global best position: {Particle.global_best_position}')\n",
    "        \n",
    "    Particle.global_best_position = None\n",
    "    Particle.global_best_value = None"
   ]
  },
  {
   "cell_type": "code",
   "execution_count": 9,
   "id": "66dcb1b4",
   "metadata": {},
   "outputs": [
    {
     "name": "stderr",
     "output_type": "stream",
     "text": [
      "100%|████████████████████████████████████████| 900/900 [00:01<00:00, 457.19it/s]"
     ]
    },
    {
     "name": "stdout",
     "output_type": "stream",
     "text": [
      "Global best value: 0.9949590570932898\n",
      "Global best position: [-1.60371334e-09 -9.94958637e-01  1.62866200e-09]\n"
     ]
    },
    {
     "name": "stderr",
     "output_type": "stream",
     "text": [
      "\n"
     ]
    }
   ],
   "source": [
    "PSO(35, 900, 0.4, 1.0, 1.0, test.rastrigin, 3, -5.12, 5.12)"
   ]
  },
  {
   "cell_type": "code",
   "execution_count": null,
   "id": "a2a13f3f",
   "metadata": {},
   "outputs": [],
   "source": []
  },
  {
   "cell_type": "code",
   "execution_count": null,
   "id": "c1b4e208",
   "metadata": {},
   "outputs": [],
   "source": []
  },
  {
   "cell_type": "code",
   "execution_count": null,
   "id": "a4d517e9",
   "metadata": {},
   "outputs": [],
   "source": []
  },
  {
   "cell_type": "code",
   "execution_count": null,
   "id": "bfb1bd05",
   "metadata": {},
   "outputs": [],
   "source": []
  },
  {
   "cell_type": "code",
   "execution_count": null,
   "id": "1d5ccf65",
   "metadata": {},
   "outputs": [],
   "source": []
  }
 ],
 "metadata": {
  "kernelspec": {
   "display_name": "Python 3 (ipykernel)",
   "language": "python",
   "name": "python3"
  },
  "language_info": {
   "codemirror_mode": {
    "name": "ipython",
    "version": 3
   },
   "file_extension": ".py",
   "mimetype": "text/x-python",
   "name": "python",
   "nbconvert_exporter": "python",
   "pygments_lexer": "ipython3",
   "version": "3.10.6"
  }
 },
 "nbformat": 4,
 "nbformat_minor": 5
}
