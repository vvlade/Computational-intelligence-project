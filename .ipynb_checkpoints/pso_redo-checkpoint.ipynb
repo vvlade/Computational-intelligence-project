{
 "cells": [
  {
   "cell_type": "markdown",
   "id": "temporal-promotion",
   "metadata": {},
   "source": [
    "pso\n",
    "\n",
    "velocity = c_i * inertia + c_c * r_c * personal_best + c_s * r_s * global_best"
   ]
  },
  {
   "cell_type": "code",
   "execution_count": 62,
   "id": "certified-turner",
   "metadata": {},
   "outputs": [],
   "source": [
    "import numpy as np"
   ]
  },
  {
   "cell_type": "code",
   "execution_count": 63,
   "id": "superior-silence",
   "metadata": {},
   "outputs": [],
   "source": [
    "def rastrigin(x):\n",
    "    n = len(x)\n",
    "    A = 10\n",
    "    return A*n + sum(x[i]**2 - A*np.cos(2*np.pi*x[i]) for i in range(n))"
   ]
  },
  {
   "cell_type": "code",
   "execution_count": 64,
   "id": "rental-glance",
   "metadata": {},
   "outputs": [],
   "source": [
    "def rosenbrock(x):\n",
    "    a = 1\n",
    "    b = 100\n",
    "    return (a - x[0])**2 + b*(x[1] - x[0]**2)**2"
   ]
  },
  {
   "cell_type": "code",
   "execution_count": 65,
   "id": "typical-script",
   "metadata": {},
   "outputs": [],
   "source": [
    "class Particle:\n",
    "    global_best_position = None\n",
    "    global_best_value = None\n",
    "    \n",
    "    def __init__(self, bounds, obj_func, c_i, c_c, c_s):\n",
    "        self.lower_bounds = np.array([bound[0] for bound in bounds])\n",
    "        self.upper_bounds = np.array([bound[1] for bound in bounds])        \n",
    "        \n",
    "        self.obj_func = obj_func\n",
    "        self.c_i = c_i\n",
    "        self.c_c = c_c\n",
    "        self.c_s = c_s\n",
    "        \n",
    "        self.position = np.random.uniform(self.lower_bounds, self.upper_bounds, len(bounds))\n",
    "        self.value = self.obj_func(self.position)\n",
    "        \n",
    "        self.personal_best_position = self.position.copy()\n",
    "        self.personal_best_value = self.obj_func(self.personal_best_position)\n",
    "        \n",
    "        self.velocity = np.random.uniform(self.lower_bounds - self.upper_bounds,\n",
    "                                          self.upper_bounds - self.lower_bounds,\n",
    "                                          len(bounds))\n",
    "        if Particle.global_best_value is None or self.value < Particle.global_best_value:\n",
    "            Particle.global_best_position = self.position.copy()\n",
    "            Particle.global_best_value = self.value\n",
    "            \n",
    "    def update_position(self):\n",
    "        self.position = np.clip(self.position + self.velocity, self.lower_bounds, self.upper_bounds)\n",
    "        self.value = self.obj_func(self.position)\n",
    "\n",
    "        if self.value < self.personal_best_value:\n",
    "            self.personal_best_position = self.position.copy()\n",
    "            self.personal_best_value = self.value\n",
    "\n",
    "            if self.value < Particle.global_best_value:\n",
    "                Particle.global_best_position = self.position.copy()\n",
    "                Particle.global_best_value = self.value\n",
    "\n",
    "    def update_velocity(self):\n",
    "        r_c = np.random.random(self.velocity.shape)\n",
    "        r_s = np.random.random(self.velocity.shape)\n",
    "\n",
    "        cognitive_velocity = r_c * self.c_c * (self.personal_best_position - self.position)\n",
    "        social_velocity = r_s * self.c_s * (Particle.global_best_position - self.position)\n",
    "        inertia = self.c_i * self.velocity\n",
    "\n",
    "        self.velocity = inertia + cognitive_velocity + social_velocity"
   ]
  },
  {
   "cell_type": "code",
   "execution_count": 66,
   "id": "incorporate-capability",
   "metadata": {},
   "outputs": [],
   "source": [
    "def pso(swarm_size, num_iters, c_i, c_c, c_s, num_dimensions, obj_func):\n",
    "    bounds = [(-5.12, 5.12) for _ in range(num_dimensions)]\n",
    "    swarm = [Particle(bounds, obj_func, c_i, c_c, c_s) for _ in range(swarm_size)]\n",
    "    \n",
    "    for _ in range(num_iters):\n",
    "        for particle in swarm:\n",
    "            particle.update_velocity()\n",
    "            particle.update_position()\n",
    "            \n",
    "    print(f'{Particle.global_best_position}')\n",
    "    print(f'{Particle.global_best_value}')\n",
    "    \n",
    "    Particle.global_best_position = None\n",
    "    Particle.global_best_value = None"
   ]
  },
  {
   "cell_type": "code",
   "execution_count": 67,
   "id": "brilliant-malta",
   "metadata": {},
   "outputs": [
    {
     "name": "stdout",
     "output_type": "stream",
     "text": [
      "[1.00000033 1.00000066]\n",
      "1.095945486749585e-13\n"
     ]
    }
   ],
   "source": [
    "pso(swarm_size=50, num_iters=100, c_i=0.4, c_c=1.0, c_s=1.0, num_dimensions=2, obj_func=rosenbrock)"
   ]
  },
  {
   "cell_type": "code",
   "execution_count": null,
   "id": "closed-bishop",
   "metadata": {},
   "outputs": [],
   "source": []
  },
  {
   "cell_type": "code",
   "execution_count": null,
   "id": "opened-space",
   "metadata": {},
   "outputs": [],
   "source": []
  },
  {
   "cell_type": "code",
   "execution_count": null,
   "id": "sapphire-tobacco",
   "metadata": {},
   "outputs": [],
   "source": []
  },
  {
   "cell_type": "code",
   "execution_count": null,
   "id": "dressed-scanning",
   "metadata": {},
   "outputs": [],
   "source": []
  }
 ],
 "metadata": {
  "kernelspec": {
   "display_name": "Python 3",
   "language": "python",
   "name": "python3"
  },
  "language_info": {
   "codemirror_mode": {
    "name": "ipython",
    "version": 3
   },
   "file_extension": ".py",
   "mimetype": "text/x-python",
   "name": "python",
   "nbconvert_exporter": "python",
   "pygments_lexer": "ipython3",
   "version": "3.8.10"
  }
 },
 "nbformat": 4,
 "nbformat_minor": 5
}
