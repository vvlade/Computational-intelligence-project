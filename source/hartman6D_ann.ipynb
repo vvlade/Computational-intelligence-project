{
 "cells": [
  {
   "cell_type": "code",
   "execution_count": 12,
   "id": "c24d8c69",
   "metadata": {
    "tags": []
   },
   "outputs": [],
   "source": [
    "import numpy as np\n",
    "from matplotlib import pyplot as plt\n",
    "from tensorflow.keras.models import Sequential\n",
    "from tensorflow.keras.layers import Dense\n",
    "from tensorflow.keras.models import load_model"
   ]
  },
  {
   "cell_type": "code",
   "execution_count": 13,
   "id": "7d7e29ef-3aa5-4d40-a705-9b251c2dc290",
   "metadata": {
    "tags": []
   },
   "outputs": [],
   "source": [
    "X_train = np.random.random_sample((700,6))\n",
    "y_train = np.array([[0.20169, 0.150011, 0.476874, 0.275332, 0.311652, 0.6573] for _ in range(700)])"
   ]
  },
  {
   "cell_type": "code",
   "execution_count": 14,
   "id": "87b6ca19",
   "metadata": {},
   "outputs": [
    {
     "data": {
      "text/plain": [
       "(700, 6)"
      ]
     },
     "execution_count": 14,
     "metadata": {},
     "output_type": "execute_result"
    }
   ],
   "source": [
    "y_train.shape"
   ]
  },
  {
   "cell_type": "code",
   "execution_count": 15,
   "id": "025f24ac-9839-46e6-bc54-25d610b55d0e",
   "metadata": {
    "tags": []
   },
   "outputs": [
    {
     "name": "stdout",
     "output_type": "stream",
     "text": [
      "Model: \"sequential_1\"\n",
      "_________________________________________________________________\n",
      " Layer (type)                Output Shape              Param #   \n",
      "=================================================================\n",
      " dense_3 (Dense)             (None, 9)                 63        \n",
      "                                                                 \n",
      " dense_4 (Dense)             (None, 15)                150       \n",
      "                                                                 \n",
      " dense_5 (Dense)             (None, 6)                 96        \n",
      "                                                                 \n",
      "=================================================================\n",
      "Total params: 309\n",
      "Trainable params: 309\n",
      "Non-trainable params: 0\n",
      "_________________________________________________________________\n"
     ]
    }
   ],
   "source": [
    "model = Sequential()\n",
    "\n",
    "model.add(Dense(input_dim=X_train.shape[1], units=9, activation='relu'))\n",
    "model.add(Dense(units=15, activation='relu'))\n",
    "model.add(Dense(units=6))\n",
    "model.summary()"
   ]
  },
  {
   "cell_type": "code",
   "execution_count": 16,
   "id": "9d45cb4c",
   "metadata": {
    "tags": []
   },
   "outputs": [],
   "source": [
    "model.compile(optimizer='adam', loss='mse')"
   ]
  },
  {
   "cell_type": "code",
   "execution_count": 17,
   "id": "ca9914e0-6a85-46e7-b78c-682f61e68529",
   "metadata": {
    "tags": []
   },
   "outputs": [
    {
     "name": "stdout",
     "output_type": "stream",
     "text": [
      "Epoch 1/30\n",
      "18/18 [==============================] - 2s 25ms/step - loss: 0.2373 - val_loss: 0.1918\n",
      "Epoch 2/30\n",
      "18/18 [==============================] - 0s 10ms/step - loss: 0.1658 - val_loss: 0.1412\n",
      "Epoch 3/30\n",
      "18/18 [==============================] - 0s 9ms/step - loss: 0.1233 - val_loss: 0.1041\n",
      "Epoch 4/30\n",
      "18/18 [==============================] - 0s 9ms/step - loss: 0.0873 - val_loss: 0.0696\n",
      "Epoch 5/30\n",
      "18/18 [==============================] - 0s 8ms/step - loss: 0.0566 - val_loss: 0.0439\n",
      "Epoch 6/30\n",
      "18/18 [==============================] - 0s 9ms/step - loss: 0.0350 - val_loss: 0.0269\n",
      "Epoch 7/30\n",
      "18/18 [==============================] - 0s 8ms/step - loss: 0.0213 - val_loss: 0.0169\n",
      "Epoch 8/30\n",
      "18/18 [==============================] - 0s 8ms/step - loss: 0.0135 - val_loss: 0.0112\n",
      "Epoch 9/30\n",
      "18/18 [==============================] - 0s 8ms/step - loss: 0.0091 - val_loss: 0.0079\n",
      "Epoch 10/30\n",
      "18/18 [==============================] - 0s 11ms/step - loss: 0.0066 - val_loss: 0.0061\n",
      "Epoch 11/30\n",
      "18/18 [==============================] - 0s 10ms/step - loss: 0.0052 - val_loss: 0.0050\n",
      "Epoch 12/30\n",
      "18/18 [==============================] - 0s 9ms/step - loss: 0.0043 - val_loss: 0.0042\n",
      "Epoch 13/30\n",
      "18/18 [==============================] - 0s 10ms/step - loss: 0.0037 - val_loss: 0.0036\n",
      "Epoch 14/30\n",
      "18/18 [==============================] - 0s 9ms/step - loss: 0.0032 - val_loss: 0.0031\n",
      "Epoch 15/30\n",
      "18/18 [==============================] - 0s 9ms/step - loss: 0.0028 - val_loss: 0.0027\n",
      "Epoch 16/30\n",
      "18/18 [==============================] - 0s 9ms/step - loss: 0.0025 - val_loss: 0.0024\n",
      "Epoch 17/30\n",
      "18/18 [==============================] - 0s 9ms/step - loss: 0.0022 - val_loss: 0.0021\n",
      "Epoch 18/30\n",
      "18/18 [==============================] - 0s 9ms/step - loss: 0.0019 - val_loss: 0.0019\n",
      "Epoch 19/30\n",
      "18/18 [==============================] - 0s 11ms/step - loss: 0.0017 - val_loss: 0.0017\n",
      "Epoch 20/30\n",
      "18/18 [==============================] - 0s 12ms/step - loss: 0.0015 - val_loss: 0.0015\n",
      "Epoch 21/30\n",
      "18/18 [==============================] - 0s 9ms/step - loss: 0.0013 - val_loss: 0.0013\n",
      "Epoch 22/30\n",
      "18/18 [==============================] - 0s 8ms/step - loss: 0.0012 - val_loss: 0.0011\n",
      "Epoch 23/30\n",
      "18/18 [==============================] - 0s 8ms/step - loss: 0.0010 - val_loss: 0.0010\n",
      "Epoch 24/30\n",
      "18/18 [==============================] - 0s 10ms/step - loss: 9.1141e-04 - val_loss: 8.9818e-04\n",
      "Epoch 25/30\n",
      "18/18 [==============================] - 0s 8ms/step - loss: 8.1129e-04 - val_loss: 7.9490e-04\n",
      "Epoch 26/30\n",
      "18/18 [==============================] - 0s 9ms/step - loss: 7.2062e-04 - val_loss: 7.1052e-04\n",
      "Epoch 27/30\n",
      "18/18 [==============================] - 0s 8ms/step - loss: 6.4352e-04 - val_loss: 6.3630e-04\n",
      "Epoch 28/30\n",
      "18/18 [==============================] - 0s 8ms/step - loss: 5.7556e-04 - val_loss: 5.7066e-04\n",
      "Epoch 29/30\n",
      "18/18 [==============================] - 0s 11ms/step - loss: 5.1769e-04 - val_loss: 5.1599e-04\n",
      "Epoch 30/30\n",
      "18/18 [==============================] - 0s 8ms/step - loss: 4.6842e-04 - val_loss: 4.6691e-04\n"
     ]
    }
   ],
   "source": [
    "history = model.fit(X_train, y_train, epochs=30, validation_split=0.2)"
   ]
  },
  {
   "cell_type": "code",
   "execution_count": 18,
   "id": "d3f9df5a-e800-4107-a421-37794d3aa40e",
   "metadata": {
    "tags": []
   },
   "outputs": [
    {
     "data": {
      "text/plain": [
       "Text(0, 0.5, 'loss')"
      ]
     },
     "execution_count": 18,
     "metadata": {},
     "output_type": "execute_result"
    },
    {
     "data": {
      "image/png": "[encoded data removed]",
      "text/plain": [
       "<Figure size 640x480 with 1 Axes>"
      ]
     },
     "metadata": {},
     "output_type": "display_data"
    }
   ],
   "source": [
    "plt.plot(history.epoch, history.history['loss'])\n",
    "plt.plot(history.epoch, history.history['val_loss'])\n",
    "plt.xlabel('epoch')\n",
    "plt.ylabel('loss')"
   ]
  },
  {
   "cell_type": "code",
   "execution_count": 19,
   "id": "5b1cda26-6479-45f1-9808-99d59c203763",
   "metadata": {
    "tags": []
   },
   "outputs": [],
   "source": [
    "X_test = np.random.random_sample((200,6))\n",
    "y_test = np.array([[0.20169, 0.150011, 0.476874, 0.275332, 0.311652, 0.6573] for _ in range(200)])"
   ]
  },
  {
   "cell_type": "code",
   "execution_count": 20,
   "id": "964acd24-982a-40ed-b251-a84fd8c4cf92",
   "metadata": {
    "tags": []
   },
   "outputs": [
    {
     "name": "stdout",
     "output_type": "stream",
     "text": [
      "7/7 [==============================] - 0s 5ms/step - loss: 4.5196e-04\n"
     ]
    },
    {
     "data": {
      "text/plain": [
       "0.00045196322025731206"
      ]
     },
     "execution_count": 20,
     "metadata": {},
     "output_type": "execute_result"
    }
   ],
   "source": [
    "model.evaluate(X_test, y_test)"
   ]
  },
  {
   "cell_type": "code",
   "execution_count": null,
   "id": "bf5367f2-d3eb-4346-8492-06c113b6ee65",
   "metadata": {},
   "outputs": [],
   "source": []
  },
  {
   "cell_type": "code",
   "execution_count": 21,
   "id": "4a9d3a12-f12e-4007-8c54-7210c45c2ee5",
   "metadata": {
    "tags": []
   },
   "outputs": [],
   "source": [
    "model.save('../PROJ/models/hartman6D_model.hdf5')"
   ]
  },
  {
   "cell_type": "code",
   "execution_count": null,
   "id": "1356dbb9",
   "metadata": {},
   "outputs": [],
   "source": []
  }
 ],
 "metadata": {
  "kernelspec": {
   "display_name": "Python 3 (ipykernel)",
   "language": "python",
   "name": "python3"
  },
  "language_info": {
   "codemirror_mode": {
    "name": "ipython",
    "version": 3
   },
   "file_extension": ".py",
   "mimetype": "text/x-python",
   "name": "python",
   "nbconvert_exporter": "python",
   "pygments_lexer": "ipython3",
   "version": "3.10.6"
  }
 },
 "nbformat": 4,
 "nbformat_minor": 5
}
