{
 "cells": [
  {
   "cell_type": "code",
   "execution_count": 1,
   "id": "c24d8c69",
   "metadata": {
    "tags": []
   },
   "outputs": [
    {
     "name": "stderr",
     "output_type": "stream",
     "text": [
      "2023-05-06 15:40:30.202070: I tensorflow/tsl/cuda/cudart_stub.cc:28] Could not find cuda drivers on your machine, GPU will not be used.\n",
      "2023-05-06 15:40:30.287864: I tensorflow/tsl/cuda/cudart_stub.cc:28] Could not find cuda drivers on your machine, GPU will not be used.\n",
      "2023-05-06 15:40:30.289964: I tensorflow/core/platform/cpu_feature_guard.cc:182] This TensorFlow binary is optimized to use available CPU instructions in performance-critical operations.\n",
      "To enable the following instructions: AVX2 FMA, in other operations, rebuild TensorFlow with the appropriate compiler flags.\n",
      "2023-05-06 15:40:32.385883: W tensorflow/compiler/tf2tensorrt/utils/py_utils.cc:38] TF-TRT Warning: Could not find TensorRT\n"
     ]
    }
   ],
   "source": [
    "import numpy as np\n",
    "from matplotlib import pyplot as plt\n",
    "from tensorflow.keras.models import Sequential\n",
    "from tensorflow.keras.layers import Dense\n",
    "from tensorflow.keras.models import load_model"
   ]
  },
  {
   "cell_type": "code",
   "execution_count": 2,
   "id": "7d7e29ef-3aa5-4d40-a705-9b251c2dc290",
   "metadata": {
    "tags": []
   },
   "outputs": [],
   "source": [
    "X_train = np.random.random_sample((700,9))*65.536-32.768\n",
    "y_train = np.array([[0, 0, 0, 0, 0,0,0,0,0] for _ in range(700)])"
   ]
  },
  {
   "cell_type": "code",
   "execution_count": 3,
   "id": "025f24ac-9839-46e6-bc54-25d610b55d0e",
   "metadata": {
    "tags": []
   },
   "outputs": [
    {
     "name": "stdout",
     "output_type": "stream",
     "text": [
      "Model: \"sequential\"\n",
      "_________________________________________________________________\n",
      " Layer (type)                Output Shape              Param #   \n",
      "=================================================================\n",
      " dense (Dense)               (None, 9)                 90        \n",
      "                                                                 \n",
      " dense_1 (Dense)             (None, 15)                150       \n",
      "                                                                 \n",
      " dense_2 (Dense)             (None, 9)                 144       \n",
      "                                                                 \n",
      "=================================================================\n",
      "Total params: 384\n",
      "Trainable params: 384\n",
      "Non-trainable params: 0\n",
      "_________________________________________________________________\n"
     ]
    }
   ],
   "source": [
    "model = Sequential()\n",
    "\n",
    "model.add(Dense(input_dim=X_train.shape[1], units=9, activation='relu'))\n",
    "model.add(Dense(units=15, activation='relu'))\n",
    "model.add(Dense(units=9))\n",
    "model.summary()"
   ]
  },
  {
   "cell_type": "code",
   "execution_count": 4,
   "id": "9d45cb4c",
   "metadata": {
    "tags": []
   },
   "outputs": [],
   "source": [
    "model.compile(optimizer='adam', loss='mse')"
   ]
  },
  {
   "cell_type": "code",
   "execution_count": 5,
   "id": "ca9914e0-6a85-46e7-b78c-682f61e68529",
   "metadata": {
    "tags": []
   },
   "outputs": [
    {
     "name": "stdout",
     "output_type": "stream",
     "text": [
      "Epoch 1/30\n",
      "18/18 [==============================] - 2s 28ms/step - loss: 76.1555 - val_loss: 60.4793\n",
      "Epoch 2/30\n",
      "18/18 [==============================] - 0s 11ms/step - loss: 50.7723 - val_loss: 41.0054\n",
      "Epoch 3/30\n",
      "18/18 [==============================] - 0s 13ms/step - loss: 34.7576 - val_loss: 29.2263\n",
      "Epoch 4/30\n",
      "18/18 [==============================] - 0s 9ms/step - loss: 25.0427 - val_loss: 21.4246\n",
      "Epoch 5/30\n",
      "18/18 [==============================] - 0s 10ms/step - loss: 18.6347 - val_loss: 16.1406\n",
      "Epoch 6/30\n",
      "18/18 [==============================] - 0s 12ms/step - loss: 14.2623 - val_loss: 12.5092\n",
      "Epoch 7/30\n",
      "18/18 [==============================] - 0s 11ms/step - loss: 11.1375 - val_loss: 9.8576\n",
      "Epoch 8/30\n",
      "18/18 [==============================] - 0s 10ms/step - loss: 8.8343 - val_loss: 7.9389\n",
      "Epoch 9/30\n",
      "18/18 [==============================] - 0s 9ms/step - loss: 7.1198 - val_loss: 6.4898\n",
      "Epoch 10/30\n",
      "18/18 [==============================] - 0s 9ms/step - loss: 5.8108 - val_loss: 5.3772\n",
      "Epoch 11/30\n",
      "18/18 [==============================] - 0s 10ms/step - loss: 4.8040 - val_loss: 4.5208\n",
      "Epoch 12/30\n",
      "18/18 [==============================] - 0s 9ms/step - loss: 4.0229 - val_loss: 3.8282\n",
      "Epoch 13/30\n",
      "18/18 [==============================] - 0s 9ms/step - loss: 3.3975 - val_loss: 3.2619\n",
      "Epoch 14/30\n",
      "18/18 [==============================] - 0s 9ms/step - loss: 2.8994 - val_loss: 2.8253\n",
      "Epoch 15/30\n",
      "18/18 [==============================] - 0s 9ms/step - loss: 2.5061 - val_loss: 2.4760\n",
      "Epoch 16/30\n",
      "18/18 [==============================] - 0s 11ms/step - loss: 2.1916 - val_loss: 2.1824\n",
      "Epoch 17/30\n",
      "18/18 [==============================] - 0s 12ms/step - loss: 1.9291 - val_loss: 1.9419\n",
      "Epoch 18/30\n",
      "18/18 [==============================] - 0s 9ms/step - loss: 1.7158 - val_loss: 1.7368\n",
      "Epoch 19/30\n",
      "18/18 [==============================] - 0s 8ms/step - loss: 1.5333 - val_loss: 1.5728\n",
      "Epoch 20/30\n",
      "18/18 [==============================] - 0s 8ms/step - loss: 1.3877 - val_loss: 1.4261\n",
      "Epoch 21/30\n",
      "18/18 [==============================] - 0s 9ms/step - loss: 1.2573 - val_loss: 1.3010\n",
      "Epoch 22/30\n",
      "18/18 [==============================] - 0s 13ms/step - loss: 1.1432 - val_loss: 1.1954\n",
      "Epoch 23/30\n",
      "18/18 [==============================] - 0s 9ms/step - loss: 1.0466 - val_loss: 1.0988\n",
      "Epoch 24/30\n",
      "18/18 [==============================] - 0s 9ms/step - loss: 0.9609 - val_loss: 1.0164\n",
      "Epoch 25/30\n",
      "18/18 [==============================] - 0s 9ms/step - loss: 0.8838 - val_loss: 0.9440\n",
      "Epoch 26/30\n",
      "18/18 [==============================] - 0s 9ms/step - loss: 0.8193 - val_loss: 0.8748\n",
      "Epoch 27/30\n",
      "18/18 [==============================] - 0s 10ms/step - loss: 0.7561 - val_loss: 0.8171\n",
      "Epoch 28/30\n",
      "18/18 [==============================] - 0s 9ms/step - loss: 0.7029 - val_loss: 0.7612\n",
      "Epoch 29/30\n",
      "18/18 [==============================] - 0s 10ms/step - loss: 0.6552 - val_loss: 0.7103\n",
      "Epoch 30/30\n",
      "18/18 [==============================] - 0s 10ms/step - loss: 0.6099 - val_loss: 0.6664\n"
     ]
    }
   ],
   "source": [
    "history = model.fit(X_train, y_train, epochs=30, validation_split=0.2)"
   ]
  },
  {
   "cell_type": "code",
   "execution_count": 6,
   "id": "d3f9df5a-e800-4107-a421-37794d3aa40e",
   "metadata": {
    "tags": []
   },
   "outputs": [
    {
     "data": {
      "text/plain": [
       "Text(0, 0.5, 'loss')"
      ]
     },
     "execution_count": 6,
     "metadata": {},
     "output_type": "execute_result"
    },
    {
     "data": {
      "image/png": "[encoded data removed]",
      "text/plain": [
       "<Figure size 640x480 with 1 Axes>"
      ]
     },
     "metadata": {},
     "output_type": "display_data"
    }
   ],
   "source": [
    "plt.plot(history.epoch, history.history['loss'])\n",
    "plt.plot(history.epoch, history.history['val_loss'])\n",
    "plt.xlabel('epoch')\n",
    "plt.ylabel('loss')"
   ]
  },
  {
   "cell_type": "code",
   "execution_count": 7,
   "id": "5b1cda26-6479-45f1-9808-99d59c203763",
   "metadata": {
    "tags": []
   },
   "outputs": [],
   "source": [
    "X_test = np.random.random_sample((200,9))*65.536-32.768\n",
    "y_test = np.array([[0,0,0,0,0,0,0,0,0] for _ in range(200)])"
   ]
  },
  {
   "cell_type": "code",
   "execution_count": 8,
   "id": "964acd24-982a-40ed-b251-a84fd8c4cf92",
   "metadata": {
    "tags": []
   },
   "outputs": [
    {
     "name": "stdout",
     "output_type": "stream",
     "text": [
      "7/7 [==============================] - 0s 4ms/step - loss: 0.7455\n"
     ]
    },
    {
     "data": {
      "text/plain": [
       "0.7454548478126526"
      ]
     },
     "execution_count": 8,
     "metadata": {},
     "output_type": "execute_result"
    }
   ],
   "source": [
    "model.evaluate(X_test, y_test)"
   ]
  },
  {
   "cell_type": "code",
   "execution_count": 10,
   "id": "4a9d3a12-f12e-4007-8c54-7210c45c2ee5",
   "metadata": {
    "tags": []
   },
   "outputs": [],
   "source": [
    "model.save('../PROJ/models/ackley_model.hdf5')"
   ]
  },
  {
   "cell_type": "code",
   "execution_count": null,
   "id": "1356dbb9",
   "metadata": {},
   "outputs": [],
   "source": []
  }
 ],
 "metadata": {
  "kernelspec": {
   "display_name": "Python 3 (ipykernel)",
   "language": "python",
   "name": "python3"
  },
  "language_info": {
   "codemirror_mode": {
    "name": "ipython",
    "version": 3
   },
   "file_extension": ".py",
   "mimetype": "text/x-python",
   "name": "python",
   "nbconvert_exporter": "python",
   "pygments_lexer": "ipython3",
   "version": "3.10.6"
  }
 },
 "nbformat": 4,
 "nbformat_minor": 5
}
