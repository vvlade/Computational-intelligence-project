{
 "cells": [
  {
   "cell_type": "code",
   "execution_count": 1,
   "id": "c24d8c69",
   "metadata": {
    "tags": []
   },
   "outputs": [
    {
     "name": "stderr",
     "output_type": "stream",
     "text": [
      "2023-05-06 13:58:46.101426: I tensorflow/tsl/cuda/cudart_stub.cc:28] Could not find cuda drivers on your machine, GPU will not be used.\n",
      "2023-05-06 13:58:46.191232: I tensorflow/tsl/cuda/cudart_stub.cc:28] Could not find cuda drivers on your machine, GPU will not be used.\n",
      "2023-05-06 13:58:46.192239: I tensorflow/core/platform/cpu_feature_guard.cc:182] This TensorFlow binary is optimized to use available CPU instructions in performance-critical operations.\n",
      "To enable the following instructions: AVX2 FMA, in other operations, rebuild TensorFlow with the appropriate compiler flags.\n",
      "2023-05-06 13:58:48.232902: W tensorflow/compiler/tf2tensorrt/utils/py_utils.cc:38] TF-TRT Warning: Could not find TensorRT\n"
     ]
    }
   ],
   "source": [
    "import numpy as np\n",
    "from matplotlib import pyplot as plt\n",
    "from tensorflow.keras.models import Sequential\n",
    "from tensorflow.keras.layers import Dense\n",
    "from tensorflow.keras.models import load_model"
   ]
  },
  {
   "cell_type": "code",
   "execution_count": 2,
   "id": "7d7e29ef-3aa5-4d40-a705-9b251c2dc290",
   "metadata": {
    "tags": []
   },
   "outputs": [],
   "source": [
    "X_train = np.random.random_sample((35,3))*15-5\n",
    "y_train = np.array([[1,1,1] for _ in range(35)])"
   ]
  },
  {
   "cell_type": "code",
   "execution_count": 3,
   "id": "025f24ac-9839-46e6-bc54-25d610b55d0e",
   "metadata": {
    "tags": []
   },
   "outputs": [
    {
     "name": "stdout",
     "output_type": "stream",
     "text": [
      "Model: \"sequential\"\n",
      "_________________________________________________________________\n",
      " Layer (type)                Output Shape              Param #   \n",
      "=================================================================\n",
      " dense (Dense)               (None, 9)                 36        \n",
      "                                                                 \n",
      " dense_1 (Dense)             (None, 15)                150       \n",
      "                                                                 \n",
      " dense_2 (Dense)             (None, 3)                 48        \n",
      "                                                                 \n",
      "=================================================================\n",
      "Total params: 234\n",
      "Trainable params: 234\n",
      "Non-trainable params: 0\n",
      "_________________________________________________________________\n"
     ]
    }
   ],
   "source": [
    "model = Sequential()\n",
    "\n",
    "model.add(Dense(input_dim=X_train.shape[1], units=9, activation='relu'))\n",
    "model.add(Dense(units=15, activation='relu'))\n",
    "model.add(Dense(units=3))\n",
    "model.summary()"
   ]
  },
  {
   "cell_type": "code",
   "execution_count": 4,
   "id": "9d45cb4c",
   "metadata": {
    "tags": []
   },
   "outputs": [],
   "source": [
    "model.compile(optimizer='adam', loss='mse')"
   ]
  },
  {
   "cell_type": "code",
   "execution_count": 5,
   "id": "ca9914e0-6a85-46e7-b78c-682f61e68529",
   "metadata": {
    "tags": []
   },
   "outputs": [
    {
     "name": "stdout",
     "output_type": "stream",
     "text": [
      "Epoch 1/30\n",
      "18/18 [==============================] - 2s 26ms/step - loss: 2.0660 - val_loss: 1.5344\n",
      "Epoch 2/30\n",
      "18/18 [==============================] - 0s 9ms/step - loss: 1.2866 - val_loss: 0.9914\n",
      "Epoch 3/30\n",
      "18/18 [==============================] - 0s 8ms/step - loss: 0.8368 - val_loss: 0.6659\n",
      "Epoch 4/30\n",
      "18/18 [==============================] - 0s 9ms/step - loss: 0.5703 - val_loss: 0.4720\n",
      "Epoch 5/30\n",
      "18/18 [==============================] - 0s 8ms/step - loss: 0.4077 - val_loss: 0.3469\n",
      "Epoch 6/30\n",
      "18/18 [==============================] - 0s 9ms/step - loss: 0.3039 - val_loss: 0.2633\n",
      "Epoch 7/30\n",
      "18/18 [==============================] - 0s 8ms/step - loss: 0.2376 - val_loss: 0.2073\n",
      "Epoch 8/30\n",
      "18/18 [==============================] - 0s 8ms/step - loss: 0.1919 - val_loss: 0.1733\n",
      "Epoch 9/30\n",
      "18/18 [==============================] - 0s 8ms/step - loss: 0.1629 - val_loss: 0.1482\n",
      "Epoch 10/30\n",
      "18/18 [==============================] - 0s 8ms/step - loss: 0.1429 - val_loss: 0.1319\n",
      "Epoch 11/30\n",
      "18/18 [==============================] - 0s 8ms/step - loss: 0.1284 - val_loss: 0.1204\n",
      "Epoch 12/30\n",
      "18/18 [==============================] - 0s 8ms/step - loss: 0.1173 - val_loss: 0.1100\n",
      "Epoch 13/30\n",
      "18/18 [==============================] - 0s 9ms/step - loss: 0.1074 - val_loss: 0.1014\n",
      "Epoch 14/30\n",
      "18/18 [==============================] - 0s 9ms/step - loss: 0.0994 - val_loss: 0.0940\n",
      "Epoch 15/30\n",
      "18/18 [==============================] - 0s 9ms/step - loss: 0.0923 - val_loss: 0.0874\n",
      "Epoch 16/30\n",
      "18/18 [==============================] - 0s 9ms/step - loss: 0.0861 - val_loss: 0.0815\n",
      "Epoch 17/30\n",
      "18/18 [==============================] - 0s 10ms/step - loss: 0.0808 - val_loss: 0.0758\n",
      "Epoch 18/30\n",
      "18/18 [==============================] - 0s 13ms/step - loss: 0.0757 - val_loss: 0.0712\n",
      "Epoch 19/30\n",
      "18/18 [==============================] - 0s 15ms/step - loss: 0.0714 - val_loss: 0.0668\n",
      "Epoch 20/30\n",
      "18/18 [==============================] - 0s 11ms/step - loss: 0.0671 - val_loss: 0.0624\n",
      "Epoch 21/30\n",
      "18/18 [==============================] - 0s 9ms/step - loss: 0.0634 - val_loss: 0.0586\n",
      "Epoch 22/30\n",
      "18/18 [==============================] - 0s 8ms/step - loss: 0.0597 - val_loss: 0.0551\n",
      "Epoch 23/30\n",
      "18/18 [==============================] - 0s 9ms/step - loss: 0.0565 - val_loss: 0.0518\n",
      "Epoch 24/30\n",
      "18/18 [==============================] - 0s 9ms/step - loss: 0.0537 - val_loss: 0.0488\n",
      "Epoch 25/30\n",
      "18/18 [==============================] - 0s 8ms/step - loss: 0.0509 - val_loss: 0.0457\n",
      "Epoch 26/30\n",
      "18/18 [==============================] - 0s 8ms/step - loss: 0.0485 - val_loss: 0.0434\n",
      "Epoch 27/30\n",
      "18/18 [==============================] - 0s 8ms/step - loss: 0.0460 - val_loss: 0.0405\n",
      "Epoch 28/30\n",
      "18/18 [==============================] - 0s 11ms/step - loss: 0.0436 - val_loss: 0.0382\n",
      "Epoch 29/30\n",
      "18/18 [==============================] - 0s 10ms/step - loss: 0.0411 - val_loss: 0.0359\n",
      "Epoch 30/30\n",
      "18/18 [==============================] - 0s 10ms/step - loss: 0.0388 - val_loss: 0.0335\n"
     ]
    }
   ],
   "source": [
    "history = model.fit(X_train, y_train, epochs=30, validation_split=0.2)"
   ]
  },
  {
   "cell_type": "code",
   "execution_count": 6,
   "id": "d3f9df5a-e800-4107-a421-37794d3aa40e",
   "metadata": {
    "tags": []
   },
   "outputs": [
    {
     "data": {
      "text/plain": [
       "Text(0, 0.5, 'loss')"
      ]
     },
     "execution_count": 6,
     "metadata": {},
     "output_type": "execute_result"
    },
    {
     "data": {
      "image/png": "[encoded data removed]",
      "text/plain": [
       "<Figure size 640x480 with 1 Axes>"
      ]
     },
     "metadata": {},
     "output_type": "display_data"
    }
   ],
   "source": [
    "plt.plot(history.epoch, history.history['loss'])\n",
    "plt.plot(history.epoch, history.history['val_loss'])\n",
    "plt.xlabel('epoch')\n",
    "plt.ylabel('loss')"
   ]
  },
  {
   "cell_type": "code",
   "execution_count": 7,
   "id": "5b1cda26-6479-45f1-9808-99d59c203763",
   "metadata": {
    "tags": []
   },
   "outputs": [],
   "source": [
    "X_test = np.random.random_sample((200,3))*15-5\n",
    "y_test = np.array([[1,1,1] for _ in range(200)])"
   ]
  },
  {
   "cell_type": "code",
   "execution_count": 8,
   "id": "964acd24-982a-40ed-b251-a84fd8c4cf92",
   "metadata": {
    "tags": []
   },
   "outputs": [
    {
     "name": "stdout",
     "output_type": "stream",
     "text": [
      "7/7 [==============================] - 0s 5ms/step - loss: 0.0404\n"
     ]
    },
    {
     "data": {
      "text/plain": [
       "0.040427908301353455"
      ]
     },
     "execution_count": 8,
     "metadata": {},
     "output_type": "execute_result"
    }
   ],
   "source": [
    "model.evaluate(X_test, y_test)"
   ]
  },
  {
   "cell_type": "code",
   "execution_count": null,
   "id": "bf5367f2-d3eb-4346-8492-06c113b6ee65",
   "metadata": {},
   "outputs": [],
   "source": []
  },
  {
   "cell_type": "code",
   "execution_count": 10,
   "id": "4a9d3a12-f12e-4007-8c54-7210c45c2ee5",
   "metadata": {
    "tags": []
   },
   "outputs": [],
   "source": [
    "model.save('../PROJ/models/rosenbrock_model.hdf5')"
   ]
  },
  {
   "cell_type": "code",
   "execution_count": null,
   "id": "a6758dee",
   "metadata": {},
   "outputs": [],
   "source": []
  }
 ],
 "metadata": {
  "kernelspec": {
   "display_name": "Python 3 (ipykernel)",
   "language": "python",
   "name": "python3"
  },
  "language_info": {
   "codemirror_mode": {
    "name": "ipython",
    "version": 3
   },
   "file_extension": ".py",
   "mimetype": "text/x-python",
   "name": "python",
   "nbconvert_exporter": "python",
   "pygments_lexer": "ipython3",
   "version": "3.10.6"
  }
 },
 "nbformat": 4,
 "nbformat_minor": 5
}
