{
 "cells": [
  {
   "cell_type": "code",
   "execution_count": 1,
   "id": "c24d8c69",
   "metadata": {
    "tags": []
   },
   "outputs": [
    {
     "name": "stderr",
     "output_type": "stream",
     "text": [
      "2023-05-06 15:10:15.968060: I tensorflow/tsl/cuda/cudart_stub.cc:28] Could not find cuda drivers on your machine, GPU will not be used.\n",
      "2023-05-06 15:10:16.055893: I tensorflow/tsl/cuda/cudart_stub.cc:28] Could not find cuda drivers on your machine, GPU will not be used.\n",
      "2023-05-06 15:10:16.057272: I tensorflow/core/platform/cpu_feature_guard.cc:182] This TensorFlow binary is optimized to use available CPU instructions in performance-critical operations.\n",
      "To enable the following instructions: AVX2 FMA, in other operations, rebuild TensorFlow with the appropriate compiler flags.\n",
      "2023-05-06 15:10:18.156672: W tensorflow/compiler/tf2tensorrt/utils/py_utils.cc:38] TF-TRT Warning: Could not find TensorRT\n"
     ]
    }
   ],
   "source": [
    "import numpy as np\n",
    "from matplotlib import pyplot as plt\n",
    "from tensorflow.keras.models import Sequential\n",
    "from tensorflow.keras.layers import Dense\n",
    "from tensorflow.keras.models import load_model"
   ]
  },
  {
   "cell_type": "code",
   "execution_count": 2,
   "id": "7d7e29ef-3aa5-4d40-a705-9b251c2dc290",
   "metadata": {
    "tags": []
   },
   "outputs": [],
   "source": [
    "X_train = np.random.random_sample((700,5))*10.24-5.12\n",
    "y_train = np.array([[0, 0, 0, 0, 0] for _ in range(700)])"
   ]
  },
  {
   "cell_type": "code",
   "execution_count": 3,
   "id": "025f24ac-9839-46e6-bc54-25d610b55d0e",
   "metadata": {
    "tags": []
   },
   "outputs": [
    {
     "name": "stdout",
     "output_type": "stream",
     "text": [
      "Model: \"sequential\"\n",
      "_________________________________________________________________\n",
      " Layer (type)                Output Shape              Param #   \n",
      "=================================================================\n",
      " dense (Dense)               (None, 9)                 54        \n",
      "                                                                 \n",
      " dense_1 (Dense)             (None, 15)                150       \n",
      "                                                                 \n",
      " dense_2 (Dense)             (None, 5)                 80        \n",
      "                                                                 \n",
      "=================================================================\n",
      "Total params: 284\n",
      "Trainable params: 284\n",
      "Non-trainable params: 0\n",
      "_________________________________________________________________\n"
     ]
    }
   ],
   "source": [
    "model = Sequential()\n",
    "\n",
    "model.add(Dense(input_dim=X_train.shape[1], units=9, activation='relu'))\n",
    "model.add(Dense(units=15, activation='relu'))\n",
    "model.add(Dense(units=5))\n",
    "model.summary()"
   ]
  },
  {
   "cell_type": "code",
   "execution_count": 4,
   "id": "9d45cb4c",
   "metadata": {
    "tags": []
   },
   "outputs": [],
   "source": [
    "model.compile(optimizer='adam', loss='mse')"
   ]
  },
  {
   "cell_type": "code",
   "execution_count": 5,
   "id": "ca9914e0-6a85-46e7-b78c-682f61e68529",
   "metadata": {
    "tags": []
   },
   "outputs": [
    {
     "name": "stdout",
     "output_type": "stream",
     "text": [
      "Epoch 1/30\n",
      "18/18 [==============================] - 2s 25ms/step - loss: 0.6709 - val_loss: 0.5330\n",
      "Epoch 2/30\n",
      "18/18 [==============================] - 0s 9ms/step - loss: 0.4088 - val_loss: 0.3422\n",
      "Epoch 3/30\n",
      "18/18 [==============================] - 0s 10ms/step - loss: 0.2637 - val_loss: 0.2365\n",
      "Epoch 4/30\n",
      "18/18 [==============================] - 0s 8ms/step - loss: 0.1832 - val_loss: 0.1729\n",
      "Epoch 5/30\n",
      "18/18 [==============================] - 0s 8ms/step - loss: 0.1321 - val_loss: 0.1338\n",
      "Epoch 6/30\n",
      "18/18 [==============================] - 0s 8ms/step - loss: 0.1012 - val_loss: 0.1057\n",
      "Epoch 7/30\n",
      "18/18 [==============================] - 0s 9ms/step - loss: 0.0798 - val_loss: 0.0852\n",
      "Epoch 8/30\n",
      "18/18 [==============================] - 0s 9ms/step - loss: 0.0642 - val_loss: 0.0709\n",
      "Epoch 9/30\n",
      "18/18 [==============================] - 0s 9ms/step - loss: 0.0533 - val_loss: 0.0600\n",
      "Epoch 10/30\n",
      "18/18 [==============================] - 0s 9ms/step - loss: 0.0450 - val_loss: 0.0513\n",
      "Epoch 11/30\n",
      "18/18 [==============================] - 0s 9ms/step - loss: 0.0384 - val_loss: 0.0446\n",
      "Epoch 12/30\n",
      "18/18 [==============================] - 0s 13ms/step - loss: 0.0333 - val_loss: 0.0388\n",
      "Epoch 13/30\n",
      "18/18 [==============================] - 0s 12ms/step - loss: 0.0290 - val_loss: 0.0341\n",
      "Epoch 14/30\n",
      "18/18 [==============================] - 0s 10ms/step - loss: 0.0255 - val_loss: 0.0300\n",
      "Epoch 15/30\n",
      "18/18 [==============================] - 0s 9ms/step - loss: 0.0226 - val_loss: 0.0270\n",
      "Epoch 16/30\n",
      "18/18 [==============================] - 0s 9ms/step - loss: 0.0202 - val_loss: 0.0241\n",
      "Epoch 17/30\n",
      "18/18 [==============================] - 0s 9ms/step - loss: 0.0181 - val_loss: 0.0216\n",
      "Epoch 18/30\n",
      "18/18 [==============================] - 0s 9ms/step - loss: 0.0163 - val_loss: 0.0196\n",
      "Epoch 19/30\n",
      "18/18 [==============================] - 0s 9ms/step - loss: 0.0148 - val_loss: 0.0177\n",
      "Epoch 20/30\n",
      "18/18 [==============================] - 0s 9ms/step - loss: 0.0134 - val_loss: 0.0161\n",
      "Epoch 21/30\n",
      "18/18 [==============================] - 0s 9ms/step - loss: 0.0123 - val_loss: 0.0148\n",
      "Epoch 22/30\n",
      "18/18 [==============================] - 0s 10ms/step - loss: 0.0113 - val_loss: 0.0136\n",
      "Epoch 23/30\n",
      "18/18 [==============================] - 0s 9ms/step - loss: 0.0104 - val_loss: 0.0125\n",
      "Epoch 24/30\n",
      "18/18 [==============================] - 0s 11ms/step - loss: 0.0095 - val_loss: 0.0115\n",
      "Epoch 25/30\n",
      "18/18 [==============================] - 0s 15ms/step - loss: 0.0088 - val_loss: 0.0107\n",
      "Epoch 26/30\n",
      "18/18 [==============================] - 0s 10ms/step - loss: 0.0081 - val_loss: 0.0099\n",
      "Epoch 27/30\n",
      "18/18 [==============================] - 0s 8ms/step - loss: 0.0075 - val_loss: 0.0091\n",
      "Epoch 28/30\n",
      "18/18 [==============================] - 0s 8ms/step - loss: 0.0070 - val_loss: 0.0084\n",
      "Epoch 29/30\n",
      "18/18 [==============================] - 0s 10ms/step - loss: 0.0065 - val_loss: 0.0079\n",
      "Epoch 30/30\n",
      "18/18 [==============================] - 0s 9ms/step - loss: 0.0060 - val_loss: 0.0072\n"
     ]
    }
   ],
   "source": [
    "history = model.fit(X_train, y_train, epochs=30, validation_split=0.2)"
   ]
  },
  {
   "cell_type": "code",
   "execution_count": 6,
   "id": "d3f9df5a-e800-4107-a421-37794d3aa40e",
   "metadata": {
    "tags": []
   },
   "outputs": [
    {
     "data": {
      "text/plain": [
       "Text(0, 0.5, 'loss')"
      ]
     },
     "execution_count": 6,
     "metadata": {},
     "output_type": "execute_result"
    },
    {
     "data": {
      "image/png": "[encoded data removed]",
      "text/plain": [
       "<Figure size 640x480 with 1 Axes>"
      ]
     },
     "metadata": {},
     "output_type": "display_data"
    }
   ],
   "source": [
    "plt.plot(history.epoch, history.history['loss'])\n",
    "plt.plot(history.epoch, history.history['val_loss'])\n",
    "plt.xlabel('epoch')\n",
    "plt.ylabel('loss')"
   ]
  },
  {
   "cell_type": "code",
   "execution_count": 7,
   "id": "5b1cda26-6479-45f1-9808-99d59c203763",
   "metadata": {
    "tags": []
   },
   "outputs": [],
   "source": [
    "X_test = np.random.random_sample((200,5))*10.24-5.12\n",
    "y_test = np.array([[0,0,0,0,0] for _ in range(200)])"
   ]
  },
  {
   "cell_type": "code",
   "execution_count": 8,
   "id": "964acd24-982a-40ed-b251-a84fd8c4cf92",
   "metadata": {
    "tags": []
   },
   "outputs": [
    {
     "name": "stdout",
     "output_type": "stream",
     "text": [
      "7/7 [==============================] - 0s 5ms/step - loss: 0.0065\n"
     ]
    },
    {
     "data": {
      "text/plain": [
       "0.0065048919059336185"
      ]
     },
     "execution_count": 8,
     "metadata": {},
     "output_type": "execute_result"
    }
   ],
   "source": [
    "model.evaluate(X_test, y_test)"
   ]
  },
  {
   "cell_type": "code",
   "execution_count": 12,
   "id": "4a9d3a12-f12e-4007-8c54-7210c45c2ee5",
   "metadata": {
    "tags": []
   },
   "outputs": [],
   "source": [
    "model.save('../PROJ/models/rastrigin_model.hdf5')"
   ]
  },
  {
   "cell_type": "code",
   "execution_count": null,
   "id": "1356dbb9",
   "metadata": {},
   "outputs": [],
   "source": []
  }
 ],
 "metadata": {
  "kernelspec": {
   "display_name": "Python 3 (ipykernel)",
   "language": "python",
   "name": "python3"
  },
  "language_info": {
   "codemirror_mode": {
    "name": "ipython",
    "version": 3
   },
   "file_extension": ".py",
   "mimetype": "text/x-python",
   "name": "python",
   "nbconvert_exporter": "python",
   "pygments_lexer": "ipython3",
   "version": "3.10.6"
  }
 },
 "nbformat": 4,
 "nbformat_minor": 5
}
