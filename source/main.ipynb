{
 "cells": [
  {
   "cell_type": "code",
   "execution_count": 1,
   "id": "d34d986f-2eb3-4edd-baef-9e0131528319",
   "metadata": {
    "tags": []
   },
   "outputs": [
    {
     "name": "stderr",
     "output_type": "stream",
     "text": [
      "2023-05-06 15:36:26.157708: I tensorflow/tsl/cuda/cudart_stub.cc:28] Could not find cuda drivers on your machine, GPU will not be used.\n",
      "2023-05-06 15:36:26.281158: I tensorflow/tsl/cuda/cudart_stub.cc:28] Could not find cuda drivers on your machine, GPU will not be used.\n",
      "2023-05-06 15:36:26.283389: I tensorflow/core/platform/cpu_feature_guard.cc:182] This TensorFlow binary is optimized to use available CPU instructions in performance-critical operations.\n",
      "To enable the following instructions: AVX2 FMA, in other operations, rebuild TensorFlow with the appropriate compiler flags.\n",
      "2023-05-06 15:36:28.348143: W tensorflow/compiler/tf2tensorrt/utils/py_utils.cc:38] TF-TRT Warning: Could not find TensorRT\n"
     ]
    }
   ],
   "source": [
    "import numpy as np\n",
    "from tqdm import tqdm\n",
    "import test_functions as test\n",
    "from tensorflow.keras.layers import Dense\n",
    "from tensorflow.keras.models import Sequential, load_model"
   ]
  },
  {
   "cell_type": "code",
   "execution_count": 7,
   "id": "b61ea5e1",
   "metadata": {},
   "outputs": [],
   "source": [
    "                        ################### PSO ######################"
   ]
  },
  {
   "cell_type": "code",
   "execution_count": 6,
   "id": "92515f3c",
   "metadata": {},
   "outputs": [],
   "source": [
    "rosenbrock_model = load_model('../models/rosenbrock_model.hdf5')\n",
    "hartman6D_model = load_model('../models/hartman6D_model.hdf5')\n",
    "rastrigin_model = load_model('../models/rastrigin_model.hdf5')\n",
    "ackley_model = load_model('../models/ackley_model.hdf5')"
   ]
  },
  {
   "cell_type": "code",
   "execution_count": 11,
   "id": "c9f0fe17-5c15-47d0-bf89-117c8dd8a35a",
   "metadata": {
    "tags": []
   },
   "outputs": [],
   "source": [
    "class Particle:\n",
    "    global_best_value = None\n",
    "    global_best_position = None\n",
    "    \n",
    "    def __init__(self, obj_func, bounds, c_i, c_s, c_c):\n",
    "        self.obj_function = obj_func\n",
    "        self.c_i = c_i\n",
    "        self.c_c = c_c\n",
    "        self.c_s = c_s\n",
    "        \n",
    "        self.lower_bounds = np.array([bound[0] for bound in bounds])\n",
    "        self.upper_bounds = np.array([bound[1] for bound in bounds])\n",
    "        \n",
    "        position = np.random.uniform(self.lower_bounds, self.upper_bounds, len(bounds))\n",
    "        position = position.reshape(1,-1)\n",
    "\n",
    "        self.position = ackley_model.predict(position, verbose=False)\n",
    "        self.value = self.obj_function(self.position[0])\n",
    "        \n",
    "        self.personal_best_position = self.position.copy()\n",
    "        self.personal_best_value = self.value\n",
    "        \n",
    "        self.velocity = np.random.uniform(self.lower_bounds - self.upper_bounds,\n",
    "                                          self.upper_bounds - self.lower_bounds,\n",
    "                                          len(bounds))\n",
    "        \n",
    "        if Particle.global_best_value is None or self.value < Particle.global_best_value:\n",
    "            Particle.global_best_position = self.position.copy()\n",
    "            Particle.global_best_value = self.value\n",
    "        \n",
    "    \n",
    "    def update_velocity(self):\n",
    "        r_c = np.random.random(self.velocity.shape)\n",
    "        r_s = np.random.random(self.velocity.shape)\n",
    "        \n",
    "        cognitive_velocity = r_c * self.c_c * (self.personal_best_position - self.position)\n",
    "        social_velocity    = r_s * self.c_s * (Particle.global_best_position - self.position)\n",
    "        inertia            = self.c_i * self.velocity\n",
    "        \n",
    "        self.velocity = cognitive_velocity + social_velocity + inertia\n",
    "    \n",
    "    def update_position(self):\n",
    "        self.position = np.clip(self.position + self.velocity, self.lower_bounds, self.upper_bounds)\n",
    "        self.value = self.obj_function(self.position[0])\n",
    "        \n",
    "        if self.value < self.personal_best_value:\n",
    "            self.personal_best_value = self.value\n",
    "            self.personal_best_position = self.position.copy()\n",
    "            \n",
    "            if self.value < Particle.global_best_value:\n",
    "                Particle.global_best_value = self.value\n",
    "                Particle.global_best_position = self.position.copy()"
   ]
  },
  {
   "cell_type": "code",
   "execution_count": 8,
   "id": "4769f218-bd41-4f01-820f-9e6f024df8d4",
   "metadata": {
    "tags": []
   },
   "outputs": [],
   "source": [
    "def PSO(swarm_size, num_iters, c_i, c_c, c_s, obj_func, num_dimensions, lb, ub):\n",
    "    bounds = [(lb, ub) for _ in range(num_dimensions)]\n",
    "    swarm = [Particle(obj_func, bounds, c_i, c_s, c_c) for _ in range(swarm_size)]\n",
    "    \n",
    "    for iter in tqdm(range(num_iters)):\n",
    "        for particle in swarm:\n",
    "            particle.update_velocity()\n",
    "            particle.update_position()\n",
    "        \n",
    "    print(f'Global best value: {Particle.global_best_value}')\n",
    "    print(f'Global best position: {Particle.global_best_position[0]}')\n",
    "        \n",
    "    Particle.global_best_position = None\n",
    "    Particle.global_best_value = None"
   ]
  },
  {
   "cell_type": "code",
   "execution_count": null,
   "id": "8950d87f",
   "metadata": {},
   "outputs": [],
   "source": []
  },
  {
   "cell_type": "code",
   "execution_count": null,
   "id": "6b63e915",
   "metadata": {},
   "outputs": [],
   "source": [
    "                          ############# ROSENBROCK FUNCTION #############"
   ]
  },
  {
   "cell_type": "code",
   "execution_count": 84,
   "id": "66dcb1b4",
   "metadata": {},
   "outputs": [
    {
     "name": "stderr",
     "output_type": "stream",
     "text": [
      "100%|██████████████████████████████████████| 1000/1000 [00:02<00:00, 388.93it/s]"
     ]
    },
    {
     "name": "stdout",
     "output_type": "stream",
     "text": [
      "Global best value: 6.472772238347563e-14\n",
      "Global best position: [0.99999989 0.99999977 0.99999955]\n"
     ]
    },
    {
     "name": "stderr",
     "output_type": "stream",
     "text": [
      "\n"
     ]
    }
   ],
   "source": [
    "# w/o using the model\n",
    "PSO(swarm_size=50, num_iters=1000, c_i=0.4, c_c=0.85, c_s=1.0, obj_func=test.rosenbrock, num_dimensions=3, lb=-5, ub=10)"
   ]
  },
  {
   "cell_type": "code",
   "execution_count": 80,
   "id": "a2a13f3f",
   "metadata": {},
   "outputs": [
    {
     "name": "stderr",
     "output_type": "stream",
     "text": [
      "100%|██████████████████████████████████████| 1000/1000 [00:02<00:00, 349.72it/s]"
     ]
    },
    {
     "name": "stdout",
     "output_type": "stream",
     "text": [
      "Global best value: 1.5210217065848887e-20\n",
      "Global best position: [1. 1. 1.]\n"
     ]
    },
    {
     "name": "stderr",
     "output_type": "stream",
     "text": [
      "\n"
     ]
    }
   ],
   "source": [
    "# w/ using the model to predict good starting positions for particles\n",
    "PSO(swarm_size=50, num_iters=1000, c_i=0.4, c_c=1.0, c_s=0.2, obj_func=test.rosenbrock, num_dimensions=3, lb=-5, ub=10)"
   ]
  },
  {
   "cell_type": "code",
   "execution_count": null,
   "id": "5677bcc5",
   "metadata": {},
   "outputs": [],
   "source": []
  },
  {
   "cell_type": "code",
   "execution_count": null,
   "id": "a4d517e9",
   "metadata": {},
   "outputs": [],
   "source": [
    "                          ############# HARTMAN_6D FUNCTION #############"
   ]
  },
  {
   "cell_type": "code",
   "execution_count": 87,
   "id": "bfb1bd05",
   "metadata": {},
   "outputs": [
    {
     "name": "stderr",
     "output_type": "stream",
     "text": [
      "100%|██████████████████████████████████████| 1000/1000 [00:06<00:00, 146.65it/s]"
     ]
    },
    {
     "name": "stdout",
     "output_type": "stream",
     "text": [
      "Global best value: -3.203102050264328\n",
      "Global best position: [0.4046539  0.88245082 0.84650909 0.57399627 0.13837492 0.0384876 ]\n"
     ]
    },
    {
     "name": "stderr",
     "output_type": "stream",
     "text": [
      "\n"
     ]
    }
   ],
   "source": [
    "# w/o using the model\n",
    "PSO(swarm_size=50, num_iters=1000, c_i=0.4, c_c=0.85, c_s=1.0, obj_func=test.hartman6D, num_dimensions=6, lb=0, ub=1)"
   ]
  },
  {
   "cell_type": "code",
   "execution_count": 99,
   "id": "1d5ccf65",
   "metadata": {},
   "outputs": [
    {
     "name": "stderr",
     "output_type": "stream",
     "text": [
      "100%|██████████████████████████████████████| 1000/1000 [00:06<00:00, 144.17it/s]"
     ]
    },
    {
     "name": "stdout",
     "output_type": "stream",
     "text": [
      "Global best value: -3.321994768543516\n",
      "Global best position: [0.20179369 0.14675932 0.47663874 0.27542647 0.31167055 0.65725579]\n"
     ]
    },
    {
     "name": "stderr",
     "output_type": "stream",
     "text": [
      "\n"
     ]
    }
   ],
   "source": [
    "# w/ using the model to predict good starting positions for particles\n",
    "PSO(swarm_size=50, num_iters=1000, c_i=0.4, c_c=1.0, c_s=0.2, obj_func=test.hartman6D, num_dimensions=6, lb=0, ub=1)"
   ]
  },
  {
   "cell_type": "code",
   "execution_count": null,
   "id": "8a515492",
   "metadata": {},
   "outputs": [],
   "source": []
  },
  {
   "cell_type": "code",
   "execution_count": null,
   "id": "bd444c27",
   "metadata": {},
   "outputs": [],
   "source": [
    "                          ############# RASTRIGIN FUNCTION #############"
   ]
  },
  {
   "cell_type": "code",
   "execution_count": 107,
   "id": "e64ea2c7",
   "metadata": {},
   "outputs": [
    {
     "name": "stderr",
     "output_type": "stream",
     "text": [
      "100%|██████████████████████████████████████| 1000/1000 [00:03<00:00, 316.86it/s]"
     ]
    },
    {
     "name": "stdout",
     "output_type": "stream",
     "text": [
      "Global best value: 5.969749304740667\n",
      "Global best position: [-4.00442885e-10 -3.38652499e-09 -1.98991223e+00 -9.94958637e-01\n",
      "  9.94958635e-01]\n"
     ]
    },
    {
     "name": "stderr",
     "output_type": "stream",
     "text": [
      "\n"
     ]
    }
   ],
   "source": [
    "# w/o using the model\n",
    "PSO(swarm_size=50, num_iters=1000, c_i=0.4, c_c=0.85, c_s=1.0, obj_func=test.rastrigin, num_dimensions=5, lb=-5.12, ub=5.12)"
   ]
  },
  {
   "cell_type": "code",
   "execution_count": 104,
   "id": "27bac923",
   "metadata": {},
   "outputs": [
    {
     "name": "stderr",
     "output_type": "stream",
     "text": [
      "100%|██████████████████████████████████████| 1000/1000 [00:04<00:00, 240.83it/s]"
     ]
    },
    {
     "name": "stdout",
     "output_type": "stream",
     "text": [
      "Global best value: 0.0002882320289359086\n",
      "Global best position: [-0.00034654  0.0004227   0.00077964 -0.00071531 -0.00018594]\n"
     ]
    },
    {
     "name": "stderr",
     "output_type": "stream",
     "text": [
      "\n"
     ]
    }
   ],
   "source": [
    "# w/ using the model to predict good starting positions for particles\n",
    "PSO(swarm_size=50, num_iters=1000, c_i=0.4, c_c=1.0, c_s=0.2, obj_func=test.rastrigin, num_dimensions=5, lb=-5.12, ub=5.12)"
   ]
  },
  {
   "cell_type": "code",
   "execution_count": null,
   "id": "b53aabda",
   "metadata": {},
   "outputs": [],
   "source": []
  },
  {
   "cell_type": "code",
   "execution_count": null,
   "id": "9f322efb",
   "metadata": {},
   "outputs": [],
   "source": [
    "                          ############# ACKLEY FUNCTION #############"
   ]
  },
  {
   "cell_type": "code",
   "execution_count": 5,
   "id": "cbbaeee3",
   "metadata": {},
   "outputs": [
    {
     "name": "stderr",
     "output_type": "stream",
     "text": [
      "100%|██████████████████████████████████████| 1000/1000 [00:03<00:00, 260.83it/s]"
     ]
    },
    {
     "name": "stdout",
     "output_type": "stream",
     "text": [
      "Global best value: 2.713178663222227\n",
      "Global best position: [-9.55069088e-01 -9.55069099e-01 -9.55069201e-01  2.53432797e-08\n",
      "  3.67363489e-09  9.55069099e-01  2.58769637e-09  9.55069097e-01\n",
      " -7.25223759e-09]\n"
     ]
    },
    {
     "name": "stderr",
     "output_type": "stream",
     "text": [
      "\n"
     ]
    }
   ],
   "source": [
    "# w/o using the model\n",
    "PSO(swarm_size=50, num_iters=1000, c_i=0.4, c_c=0.85, c_s=1.0, obj_func=test.ackley, num_dimensions=9, lb=-32.768, ub=32.768)"
   ]
  },
  {
   "cell_type": "code",
   "execution_count": 12,
   "id": "c8d6f3e5",
   "metadata": {},
   "outputs": [
    {
     "name": "stderr",
     "output_type": "stream",
     "text": [
      "100%|██████████████████████████████████████| 1000/1000 [00:04<00:00, 236.63it/s]"
     ]
    },
    {
     "name": "stdout",
     "output_type": "stream",
     "text": [
      "Global best value: 0.11332531767532261\n",
      "Global best position: [-0.04616659 -0.01980186  0.01820415 -0.00454473 -0.01354281 -0.01444344\n",
      " -0.00140699 -0.00194729 -0.03270318]\n"
     ]
    },
    {
     "name": "stderr",
     "output_type": "stream",
     "text": [
      "\n"
     ]
    }
   ],
   "source": [
    "# w/ using the model to predict good starting positions for particles\n",
    "PSO(swarm_size=50, num_iters=1000, c_i=0.4, c_c=1.0, c_s=0.2, obj_func=test.ackley, num_dimensions=9, lb=-32.768, ub=32.768)"
   ]
  },
  {
   "cell_type": "code",
   "execution_count": null,
   "id": "ea971309",
   "metadata": {},
   "outputs": [],
   "source": []
  },
  {
   "cell_type": "code",
   "execution_count": null,
   "id": "b82e56c8",
   "metadata": {},
   "outputs": [],
   "source": []
  },
  {
   "cell_type": "code",
   "execution_count": null,
   "id": "a178b5b7",
   "metadata": {},
   "outputs": [],
   "source": []
  },
  {
   "cell_type": "code",
   "execution_count": null,
   "id": "e49cd7e1",
   "metadata": {},
   "outputs": [],
   "source": []
  },
  {
   "cell_type": "code",
   "execution_count": null,
   "id": "da71f878",
   "metadata": {},
   "outputs": [],
   "source": []
  }
 ],
 "metadata": {
  "kernelspec": {
   "display_name": "Python 3 (ipykernel)",
   "language": "python",
   "name": "python3"
  },
  "language_info": {
   "codemirror_mode": {
    "name": "ipython",
    "version": 3
   },
   "file_extension": ".py",
   "mimetype": "text/x-python",
   "name": "python",
   "nbconvert_exporter": "python",
   "pygments_lexer": "ipython3",
   "version": "3.10.6"
  }
 },
 "nbformat": 4,
 "nbformat_minor": 5
}
